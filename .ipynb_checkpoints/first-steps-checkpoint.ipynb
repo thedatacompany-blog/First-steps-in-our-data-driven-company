{
 "cells": [
  {
   "cell_type": "markdown",
   "metadata": {},
   "source": [
    "__First steps in our data driven company__"
   ]
  },
  {
   "cell_type": "code",
   "execution_count": 75,
   "metadata": {
    "scrolled": true
   },
   "outputs": [],
   "source": [
    "#Create the Orders Table for our chicken farm:\n",
    "import random as r\n",
    "import string as s\n",
    "import pandas as pd\n",
    "from datetime import datetime\n",
    "\n",
    "time = datetime.now()\n",
    "dateStr = time.strftime(\"%b %d %Y \")\n",
    "\n",
    "orderID = []\n",
    "for i in range(100):\n",
    "    n = ''.join(r.SystemRandom().choice(s.ascii_letters + s.digits) for _ in range(15))\n",
    "    orderID.append(n)\n",
    "ordersDF= pd.DataFrame(orderID, columns=['orderID'])\n",
    "\n",
    "ordersDF['created_at'] = pd.Timestamp(dateStr)\n",
    "\n",
    "customerID = r.choices(range(1,30), k = 100)\n",
    "ordersDF['customerID'] = customerID\n",
    "\n",
    "customer = r.choices(['Chicken Chicken', 'Delicious Chicken', 'Korean Fast Chicken', 'K-Style Chicken',\n",
    "                           'Supermart', 'Korean Mart', 'Chicken Butcher', 'Traditional Market'], k = 100)\n",
    "ordersDF['customer'] = customer\n",
    "\n",
    "chicken = r.choices(range(1,500), k = 100)\n",
    "ordersDF['chicken'] = chicken\n",
    "\n",
    "eggs = r.choices(range(1,1000), k = 100)\n",
    "ordersDF['eggs'] = eggs\n",
    "\n",
    "ordersDF.to_csv('C:\\TheDataCompany\\Orders\\orders' + ' ' + dateStr + '.csv' , index = True)"
   ]
  },
  {
   "cell_type": "code",
   "execution_count": 76,
   "metadata": {},
   "outputs": [],
   "source": [
    "#Create the Sales Table for our chicken farm:\n",
    "salesID = []\n",
    "for i in range(100):\n",
    "    n = ''.join(r.SystemRandom().choice(s.ascii_letters + s.digits) for _ in range(15))\n",
    "    salesID.append(n)\n",
    "salesDF= pd.DataFrame(salesID, columns=['salesID'])\n",
    "\n",
    "salesDF['created_at'] = pd.Timestamp(dateStr)\n",
    "salesDF['customer'] = customer\n",
    "salesDF['chicken'] = chicken\n",
    "salesDF['eggs'] = eggs\n",
    "\n",
    "salesDF['payment'] = (salesDF['chicken'] * 3) + (salesDF['eggs'] * 0.1)\n",
    "salesDF['tax'] = 10.0\n",
    "salesDF['final_sum'] = salesDF['payment'] - salesDF['payment'] / salesDF['tax']\n",
    "\n",
    "salesDF.to_csv('C:\\TheDataCompany\\Sales\\sales' + ' ' + dateStr + '.csv' , index = True)"
   ]
  },
  {
   "cell_type": "code",
   "execution_count": 77,
   "metadata": {},
   "outputs": [],
   "source": [
    "#Create the Product Table for our chicken farm:\n",
    "productID = []\n",
    "for i in range(1000):\n",
    "    n = ''.join(r.SystemRandom().choice(s.ascii_letters + s.digits) for _ in range(15))\n",
    "    productID.append(n)\n",
    "productDF= pd.DataFrame(productID, columns=['productID'])\n",
    "\n",
    "types = r.choices(['chicken', 'egg', 'egg', 'egg', 'egg'], k = 1000)\n",
    "productDF['type'] = types\n",
    "\n",
    "color = r.choices(['brown', 'white'], k = 1000)\n",
    "productDF['color'] = color\n",
    "\n",
    "sex = r.choices(['female', 'male'], k = 1000)\n",
    "productDF['sex'] = sex\n",
    "\n",
    "weight = r.choices(range(1,10), k = 1000)\n",
    "productDF['weight'] = weight\n",
    "\n",
    "productDF.to_csv('C:\\TheDataCompany\\Product\\product' + ' ' + dateStr + '.csv' , index = True)"
   ]
  },
  {
   "cell_type": "code",
   "execution_count": 78,
   "metadata": {},
   "outputs": [],
   "source": [
    "#Create the customer table for our chicken farm:\n",
    "N = 30\n",
    "\n",
    "customerID = range(1, N + 1 , 1)\n",
    "customerDF= pd.DataFrame(customerID, columns=['customerID'])\n",
    "\n",
    "customer = r.choices(['Chicken Chicken', 'Delicious Chicken', 'Korean Fast Chicken', 'K-Style Chicken',\n",
    "                           'Supermart', 'Korean Mart', 'Chicken Butcher', 'Traditional Market'], k = N)\n",
    "customerDF['customer'] = customer\n",
    "\n",
    "location = r.choices(['Seoul', 'Daegu', 'Busan'], k = N)\n",
    "customerDF['location'] = location\n",
    "\n",
    "customerDF.to_csv('C:\\TheDataCompany\\Customer\\customer' + ' ' + dateStr + '.csv' , index = True)"
   ]
  },
  {
   "cell_type": "code",
   "execution_count": null,
   "metadata": {},
   "outputs": [],
   "source": []
  }
 ],
 "metadata": {
  "kernelspec": {
   "display_name": "Python 3",
   "language": "python",
   "name": "python3"
  },
  "language_info": {
   "codemirror_mode": {
    "name": "ipython",
    "version": 3
   },
   "file_extension": ".py",
   "mimetype": "text/x-python",
   "name": "python",
   "nbconvert_exporter": "python",
   "pygments_lexer": "ipython3",
   "version": "3.7.6"
  }
 },
 "nbformat": 4,
 "nbformat_minor": 4
}
